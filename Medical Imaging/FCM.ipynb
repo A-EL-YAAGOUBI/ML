{
 "cells": [
  {
   "cell_type": "markdown",
   "metadata": {},
   "source": [
    "# Tumor detection using Fuzzy C Means (FCM) :\n",
    "\n",
    "- This method is inspired by the k-means algorithm, but it is more precise in the sense that it uses Fuzzy set theory. In its original form it is an unsupervised technique that realizes clustering. In this practical work we do the initialization using two thresholds to split the color histogram in three classes. This method assures convergence. But it has a big computational time and it may be sensitive to initial conditions and to noise int he image. With this method we have that the tumor has shrunk by 6.23%.\n",
    "\n",
    "- Cette méthode s'inspire de l'algorithme k-means, elle utilise la notion de flou venant de la théorie de la logique floue, ou un pixel peut appartenir à plusieurs classes au même temps avec différentes probabilités ...  Dans ce TP nous avons initialité cette méthode à l'aide de deux seuils sur l'échelle de gris pour obtenir trois classes : le fond, le cerveau et la tumeur. C'est une méthode dans sa forme originale non supervisée, cependant le temps de calcul peut être assez conséquent pour de grandes dimensions. Finalement nous avons obtenu que la tumeur a rétréci de 6.23%."
   ]
  },
  {
   "cell_type": "code",
   "execution_count": 1,
   "metadata": {},
   "outputs": [],
   "source": [
    "import numpy as np\n",
    "from PIL import Image\n",
    "from matplotlib import pyplot as plt\n",
    "from skimage import measure\n",
    "from collections import Counter"
   ]
  },
  {
   "cell_type": "markdown",
   "metadata": {},
   "source": [
    "## Loading medical images"
   ]
  },
  {
   "cell_type": "code",
   "execution_count": 2,
   "metadata": {},
   "outputs": [],
   "source": [
    "IRMcoupe17_t1 = Image.open('./images/IRMcoupe17-t1.jpg')\n",
    "IRMcoupe17_t2 = Image.open('./images/IRMcoupe17-t2.jpg')\n",
    "\n",
    "IRMcoupe17_t1 = np.array(IRMcoupe17_t1)\n",
    "IRMcoupe17_t2 = np.array(IRMcoupe17_t2)"
   ]
  }
 ],
 "metadata": {
  "kernelspec": {
   "display_name": "Python 3",
   "language": "python",
   "name": "python3"
  },
  "language_info": {
   "codemirror_mode": {
    "name": "ipython",
    "version": 3
   },
   "file_extension": ".py",
   "mimetype": "text/x-python",
   "name": "python",
   "nbconvert_exporter": "python",
   "pygments_lexer": "ipython3",
   "version": "3.6.5"
  }
 },
 "nbformat": 4,
 "nbformat_minor": 2
}
